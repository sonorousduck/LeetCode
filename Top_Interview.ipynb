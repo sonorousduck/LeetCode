{
 "cells": [
  {
   "cell_type": "code",
   "execution_count": 41,
   "metadata": {},
   "outputs": [],
   "source": [
    "import numpy as np"
   ]
  },
  {
   "cell_type": "code",
   "execution_count": 42,
   "metadata": {},
   "outputs": [],
   "source": [
    "# Must be stored inside nums1 when returning\n",
    "# nums1 has length m + n\n",
    "# m denote the elements that should be merged and the last n elements are set to 0\n",
    "# nums2 has a length of n\n",
    "\n",
    "class Solution:\n",
    "    def merge(self, nums1: list[int], m: int, nums2: list[int], n: int) -> None:\n",
    "        index_nums1 = 0\n",
    "        index_nums2 = 0\n",
    "    \n",
    "        if n == 0:\n",
    "            return\n",
    "        \n",
    "        if m == 0:\n",
    "            nums1[:] = nums2[:]\n",
    "            return\n",
    "    \n",
    "    \n",
    "        for i in range(m + n):\n",
    "            if nums2[index_nums2] <= nums1[index_nums1] or (nums1[index_nums1] == 0 and index_nums1 >= m + index_nums2):\n",
    "                nums1.insert(index_nums1 + index_nums2, nums2[index_nums2])\n",
    "                nums1.pop(-1)\n",
    "                \n",
    "                # index_nums1 += 1\n",
    "                index_nums2 += 1\n",
    "            else:\n",
    "                index_nums1 += 1\n",
    "            \n",
    "            \n",
    "            if (index_nums1 == len(nums1) or index_nums2 == len(nums2)):\n",
    "                return\n",
    "            \n",
    "            \n",
    "        #     if nums1[index_nums1] == 0 and index_nums1 > m:\n",
    "        #         nums1[m + index_nums2:] = nums2[index_nums2:]\n",
    "        #         return\n",
    "            \n",
    "            \n",
    "        #     if nums2[index_nums2] < nums1[index_nums1]:\n",
    "        #         nums1.insert(index_nums1, nums2[index_nums2])\n",
    "        #         nums1.pop(-1)\n",
    "                \n",
    "        #         index_nums1 += 1\n",
    "        #         index_nums2 += 1\n",
    "                \n",
    "        #         if index_nums2 == n:\n",
    "        #             return\n",
    "                \n",
    "        #     else:\n",
    "        #         index_nums1 += 1\n",
    "        \n",
    "        # if index_nums2 < n:\n",
    "        #     nums1[m:] = nums2[index_nums2:]\n",
    "        \n",
    "        \n",
    "    \n",
    "        \n",
    "            "
   ]
  },
  {
   "cell_type": "code",
   "execution_count": 43,
   "metadata": {},
   "outputs": [],
   "source": [
    "test = Solution()"
   ]
  },
  {
   "cell_type": "code",
   "execution_count": 44,
   "metadata": {},
   "outputs": [
    {
     "name": "stdout",
     "output_type": "stream",
     "text": [
      "[-10, -10, -10, -10, -9, -9, -9, -9, -9, -9, -9, -8, -8, -7, -7, -7, -6, -8, -8, -8, -8, -8, -6, -6, -7, -7, -7, -7, -7, -7, -7, -7, -6, -6, -6, -6, -6, -6, -6, -6, -5, -5, -5, -4, -4, -4, -3, -3, -2, -2, -1, -1, 0, 1, 1, 1, 2, 2, 2, 3, 3, 3, 4, -5, -5, -5, -5, -5, 5, 5, 6, -4, -4, -4, -4, -4, 6, 6, 6, -3, -3, -3, 7, 7, -2, -2, -2, -2, -2, -2, -2, 7, 7, -1, -1, -1, 8, 9, 0, 0, 0, 0, 0, 9, 1, 1, 1, 9, 9, 0, 2, 2, 2, 2, 2, 2, 2, 2, 0, 0, 0, 3, 3, 3, 3, 0, 0, 0, 4, 4, 4, 4, 4, 4, 4, 0, 0, 0, 0, 0, 0, 5, 5, 5, 5, 5, 5, 0, 0, 6, 6, 6, 6, 6]\n"
     ]
    }
   ],
   "source": [
    "# Test case 1\n",
    "nums1 = [-10,-10,-9,-9,-9,-8,-8,-7,-7,-7,-6,-6,-6,-6,-6,-6,-6,-5,-5,-5,-4,-4,-4,-3,-3,-2,-2,-1,-1,0,1,1,1,2,2,2,3,3,3,4,5,5,6,6,6,6,7,7,7,7,8,9,9,9,9,0,0,0,0,0,0,0,0,0,0,0,0,0,0,0,0,0,0,0,0,0,0,0,0,0,0,0,0,0,0,0,0,0,0,0,0,0,0,0,0,0,0,0,0,0,0,0,0,0,0,0,0,0,0,0,0,0,0,0,0,0,0,0,0,0,0,0,0,0,0,0,0,0,0,0,0,0,0,0,0,0,0,0,0,0,0,0,0,0,0,0,0,0,0,0,0,0,0,0]\n",
    "m = 55\n",
    "nums2 = [-10,-10,-9,-9,-9,-9,-8,-8,-8,-8,-8,-7,-7,-7,-7,-7,-7,-7,-7,-6,-6,-6,-6,-5,-5,-5,-5,-5,-4,-4,-4,-4,-4,-3,-3,-3,-2,-2,-2,-2,-2,-2,-2,-1,-1,-1,0,0,0,0,0,1,1,1,2,2,2,2,2,2,2,2,3,3,3,3,4,4,4,4,4,4,4,5,5,5,5,5,5,6,6,6,6,6,7,7,7,7,7,7,7,8,8,8,8,9,9,9,9]\n",
    "n = 99\n",
    "\n",
    "testArray = sorted([-10,-10,-9,-9,-9,-8,-8,-7,-7,-7,-6,-6,-6,-6,-6,-6,-6,-5,-5,-5,-4,-4,-4,-3,-3,-2,-2,-1,-1,0,1,1,1,2,2,2,3,3,3,4,5,5,6,6,6,6,7,7,7,7,8,9,9,9,9,-10,-10,-9,-9,-9,-9,-8,-8,-8,-8,-8,-7,-7,-7,-7,-7,-7,-7,-7,-6,-6,-6,-6,-5,-5,-5,-5,-5,-4,-4,-4,-4,-4,-3,-3,-3,-2,-2,-2,-2,-2,-2,-2,-1,-1,-1,0,0,0,0,0,1,1,1,2,2,2,2,2,2,2,2,3,3,3,3,4,4,4,4,4,4,4,5,5,5,5,5,5,6,6,6,6,6,7,7,7,7,7,7,7,8,8,8,8,9,9,9,9])\n",
    "\n",
    "\n",
    "test.merge(nums1, m, nums2, n)\n",
    "print(nums1)\n",
    "\n",
    "# assert(nums1 == testArray)"
   ]
  },
  {
   "cell_type": "code",
   "execution_count": 45,
   "metadata": {},
   "outputs": [
    {
     "name": "stdout",
     "output_type": "stream",
     "text": [
      "[1, 2, 2, 3, 0, 5]\n"
     ]
    }
   ],
   "source": [
    "# Test case 2\n",
    "nums1 = [1,2,3,0,0,0]\n",
    "m = 3\n",
    "nums2 = [2,5,6]\n",
    "n = 3\n",
    "\n",
    "test.merge(nums1, m, nums2, n)\n",
    "print(nums1)"
   ]
  },
  {
   "cell_type": "code",
   "execution_count": 46,
   "metadata": {},
   "outputs": [
    {
     "name": "stdout",
     "output_type": "stream",
     "text": [
      "[1, 2]\n"
     ]
    }
   ],
   "source": [
    "nums1 = [1,0]\n",
    "m = 1\n",
    "nums2 = [2]\n",
    "n = 1\n",
    "\n",
    "test.merge(nums1, m, nums2, n)\n",
    "print(nums1)"
   ]
  },
  {
   "cell_type": "code",
   "execution_count": 47,
   "metadata": {},
   "outputs": [
    {
     "name": "stdout",
     "output_type": "stream",
     "text": [
      "[-1, -1, -1, 0, 0, 0, 0, 0, 3, 0, 0]\n"
     ]
    }
   ],
   "source": [
    "nums1 = [-1,0,0,0,3,0,0,0,0,0,0]\n",
    "m = 5\n",
    "nums2 = [-1,-1,0,0,1,2]\n",
    "n = 6\n",
    "\n",
    "test.merge(nums1, m, nums2, n)\n",
    "print(nums1)"
   ]
  },
  {
   "cell_type": "code",
   "execution_count": 48,
   "metadata": {},
   "outputs": [
    {
     "name": "stdout",
     "output_type": "stream",
     "text": [
      "[1, 4, 2, 3, 0, 0]\n"
     ]
    }
   ],
   "source": [
    "nums1 = [4,0,0,0,0,0]\n",
    "m = 1\n",
    "nums2 = [1,2,3,5,6]\n",
    "n = 5\n",
    "\n",
    "test.merge(nums1, m, nums2, n)\n",
    "print(nums1)"
   ]
  }
 ],
 "metadata": {
  "kernelspec": {
   "display_name": "torch",
   "language": "python",
   "name": "python3"
  },
  "language_info": {
   "codemirror_mode": {
    "name": "ipython",
    "version": 3
   },
   "file_extension": ".py",
   "mimetype": "text/x-python",
   "name": "python",
   "nbconvert_exporter": "python",
   "pygments_lexer": "ipython3",
   "version": "3.9.18"
  }
 },
 "nbformat": 4,
 "nbformat_minor": 2
}
